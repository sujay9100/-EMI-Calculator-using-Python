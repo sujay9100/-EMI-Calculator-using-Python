{
 "cells": [
  {
   "cell_type": "code",
   "execution_count": 56,
   "id": "417fcfde",
   "metadata": {},
   "outputs": [],
   "source": [
    "def calculate_emi(principal, rate_of_interest, tenure):\n",
    "    r = rate_of_interest / 12 / 100  \n",
    "    n = tenure * 12  \n",
    "    emi = (principal * r * (1 + r) ** n) / ((1 + r) ** n - 1)\n",
    "    return emi"
   ]
  },
  {
   "cell_type": "code",
   "execution_count": 57,
   "id": "0afc5fe0",
   "metadata": {},
   "outputs": [],
   "source": [
    "def calculate_maximum_loan(rate_of_interest, max_emi, tenure):\n",
    "    r = rate_of_interest / 12 / 100  \n",
    "    emi = max_emi\n",
    "    principal = emi * ((1 + r) ** (tenure * 12) - 1) / (r * (1 + r) ** (tenure * 12))\n",
    "    return principal"
   ]
  },
  {
   "cell_type": "code",
   "execution_count": 58,
   "id": "3e5ee509",
   "metadata": {},
   "outputs": [],
   "source": [
    "def calculate_total_interest(principal, rate_of_interest, tenure):\n",
    "    r = rate_of_interest / 12 / 100  \n",
    "    n = tenure * 12  \n",
    "    emi = calculate_emi(principal, rate_of_interest, tenure)\n",
    "    \n",
    "    total_interest = 0\n",
    "    for year in range(1, tenure + 1):\n",
    "        interest_paid = 0\n",
    "        for month in range(1, 13):\n",
    "            interest_component = principal * r\n",
    "            principal_component = emi - interest_component\n",
    "            principal -= principal_component\n",
    "            interest_paid += interest_component\n",
    "        total_interest += interest_paid\n",
    "        print(\"Year:\",year, \"Total interest paid:\",round(interest_paid,2))\n",
    "    \n",
    "    print(\"Total cumulative interest paid in\" ,year,\"years is\", round(total_interest,2))"
   ]
  },
  {
   "cell_type": "markdown",
   "id": "c0acfe9c",
   "metadata": {},
   "source": [
    "# Question 1: Calculate the EMI for a principal amount of 50 lakhs, rate of interest 8%, and tenure of 15 years"
   ]
  },
  {
   "cell_type": "code",
   "execution_count": 59,
   "id": "2d3669b9",
   "metadata": {},
   "outputs": [
    {
     "name": "stdout",
     "output_type": "stream",
     "text": [
      "EMI to be paid 47782.6\n"
     ]
    }
   ],
   "source": [
    "principal_amount = 5000000 \n",
    "rate_of_interest = 8  \n",
    "loan_tenure = 15  \n",
    "\n",
    "emi = calculate_emi(principal_amount, rate_of_interest, loan_tenure)\n",
    "print(\"EMI to be paid\",round(emi,2))"
   ]
  },
  {
   "cell_type": "markdown",
   "id": "136cffc3",
   "metadata": {},
   "source": [
    "# Question 2: Calculate the maximum loan amount for an interest rate of 10% and maximum EMI of 30,000 for the same tenure"
   ]
  },
  {
   "cell_type": "code",
   "execution_count": 60,
   "id": "8f3b1e59",
   "metadata": {},
   "outputs": [
    {
     "name": "stdout",
     "output_type": "stream",
     "text": [
      "Maximum loan amount you can afford 2791723.16\n"
     ]
    }
   ],
   "source": [
    "new_rate_of_interest = 10 \n",
    "max_emi = 30000  \n",
    "\n",
    "maximum_loan = calculate_maximum_loan(new_rate_of_interest, max_emi, loan_tenure)\n",
    "print(\"Maximum loan amount you can afford\",round(maximum_loan,2))"
   ]
  },
  {
   "cell_type": "markdown",
   "id": "ab3af109",
   "metadata": {},
   "source": [
    "# Question 3: Calculate the total interest paid year-wise and cumulative interest paid over 15 years"
   ]
  },
  {
   "cell_type": "code",
   "execution_count": 61,
   "id": "ffceea26",
   "metadata": {},
   "outputs": [
    {
     "name": "stdout",
     "output_type": "stream",
     "text": [
      "Year: 1 Total interest paid: 393498.9\n",
      "Year: 2 Total interest paid: 378567.92\n",
      "Year: 3 Total interest paid: 362397.68\n",
      "Year: 4 Total interest paid: 344885.32\n",
      "Year: 5 Total interest paid: 325919.44\n",
      "Year: 6 Total interest paid: 305379.4\n",
      "Year: 7 Total interest paid: 283134.55\n",
      "Year: 8 Total interest paid: 259043.39\n",
      "Year: 9 Total interest paid: 232952.67\n",
      "Year: 10 Total interest paid: 204696.43\n",
      "Year: 11 Total interest paid: 174094.94\n",
      "Year: 12 Total interest paid: 140953.55\n",
      "Year: 13 Total interest paid: 105061.43\n",
      "Year: 14 Total interest paid: 66190.29\n",
      "Year: 15 Total interest paid: 24092.86\n",
      "Total cumulative interest paid in 15 years is 3600868.76\n"
     ]
    }
   ],
   "source": [
    "calculate_total_interest(principal_amount, rate_of_interest, loan_tenure)"
   ]
  },
  {
   "cell_type": "markdown",
   "id": "7821d792",
   "metadata": {},
   "source": [
    "# Q.4 In how many months would you have paid at least 50% of the Principal amount."
   ]
  },
  {
   "cell_type": "code",
   "execution_count": 63,
   "id": "a3b6eaf7",
   "metadata": {},
   "outputs": [
    {
     "name": "stdout",
     "output_type": "stream",
     "text": [
      "50% of principal amount will be paid by 116 months\n",
      "The principal amount yet to be paid at  116 months is 2482741.95\n"
     ]
    }
   ],
   "source": [
    "principal = 5000000\n",
    "rate_of_interest = 8\n",
    "tenure = 15\n",
    "tenure_in_months = tenure * 12\n",
    "periodic_interest_rate = rate_of_interest / 12 / 100\n",
    "emi = calculate_emi(principal, rate_of_interest, tenure)\n",
    "\n",
    "principal_component = 0\n",
    "remaining_pa = principal - principal_component\n",
    "\n",
    "for i in range(1, tenure_in_months):\n",
    "    interest_component = remaining_pa * periodic_interest_rate\n",
    "    principal_component = emi - interest_component\n",
    "    remaining_pa -= principal_component\n",
    "    month = i\n",
    "    if remaining_pa < principal * 0.5:\n",
    "        print(\"50% of principal amount will be paid by\", i, \"months\")\n",
    "        print(\"The principal amount yet to be paid at \" ,i, \"months is\" ,round(remaining_pa,2))\n",
    "        break"
   ]
  },
  {
   "cell_type": "code",
   "execution_count": null,
   "id": "b89b451f",
   "metadata": {},
   "outputs": [],
   "source": []
  }
 ],
 "metadata": {
  "kernelspec": {
   "display_name": "Python 3 (ipykernel)",
   "language": "python",
   "name": "python3"
  },
  "language_info": {
   "codemirror_mode": {
    "name": "ipython",
    "version": 3
   },
   "file_extension": ".py",
   "mimetype": "text/x-python",
   "name": "python",
   "nbconvert_exporter": "python",
   "pygments_lexer": "ipython3",
   "version": "3.10.9"
  }
 },
 "nbformat": 4,
 "nbformat_minor": 5
}
